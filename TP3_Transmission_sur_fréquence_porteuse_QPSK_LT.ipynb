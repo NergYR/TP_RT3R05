{
 "cells": [
  {
   "cell_type": "code",
   "execution_count": 1,
   "metadata": {},
   "outputs": [
    {
     "name": "stderr",
     "output_type": "stream",
     "text": [
      "WARNING: No libpcap provider available ! pcap won't be used\n"
     ]
    }
   ],
   "source": [
    "import numpy as np\n",
    "import matplotlib.pyplot as plt\n",
    "import importlib\n",
    "from scapy.all import *\n",
    "import scapy.all"
   ]
  },
  {
   "cell_type": "code",
   "execution_count": 2,
   "metadata": {},
   "outputs": [
    {
     "data": {
      "text/plain": [
       "<module 'commNumStartLT' from 'c:\\\\Users\\\\energ\\\\Code\\\\TP_RT3R05\\\\commNumStartLT.py'>"
      ]
     },
     "execution_count": 2,
     "metadata": {},
     "output_type": "execute_result"
    }
   ],
   "source": [
    "import commNumStartLT; from commNumStartLT import Mesure\n",
    "importlib.reload(commNumStartLT)\n",
    "import commNumStartLT; from commNumStartLT import Modem\n",
    "importlib.reload(commNumStartLT)\n",
    "import commNumStartLT; from commNumStartLT import Source\n",
    "importlib.reload(commNumStartLT)\n",
    "import commNumStartLT; from commNumStartLT import Canal\n",
    "importlib.reload(commNumStartLT)"
   ]
  },
  {
   "cell_type": "code",
   "execution_count": null,
   "metadata": {},
   "outputs": [],
   "source": []
  }
 ],
 "metadata": {
  "kernelspec": {
   "display_name": "TPRT3R05",
   "language": "python",
   "name": "python3"
  },
  "language_info": {
   "codemirror_mode": {
    "name": "ipython",
    "version": 3
   },
   "file_extension": ".py",
   "mimetype": "text/x-python",
   "name": "python",
   "nbconvert_exporter": "python",
   "pygments_lexer": "ipython3",
   "version": "3.12.4"
  }
 },
 "nbformat": 4,
 "nbformat_minor": 2
}
